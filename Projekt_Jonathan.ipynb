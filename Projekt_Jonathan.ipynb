{
 "metadata": {
  "language_info": {
   "codemirror_mode": {
    "name": "ipython",
    "version": 3
   },
   "file_extension": ".py",
   "mimetype": "text/x-python",
   "name": "python",
   "nbconvert_exporter": "python",
   "pygments_lexer": "ipython3",
   "version": "3.8.3"
  },
  "orig_nbformat": 2,
  "kernelspec": {
   "name": "python383jvsc74a57bd0415bf6fd9d1100dfd2066d2c88b34aec972079c3c4f1b183feab8a8bfd8d55a2",
   "display_name": "Python 3.8.3 64-bit ('base': conda)"
  }
 },
 "nbformat": 4,
 "nbformat_minor": 2,
 "cells": [
  {
   "cell_type": "code",
   "execution_count": 10,
   "metadata": {},
   "outputs": [],
   "source": [
    "import collections\n",
    "\n",
    "from kaggle_environments import make\n",
    "import json\n",
    "import torch\n",
    "import torch.nn as nn\n",
    "import torch.nn.functional as F\n",
    "import torch.optim as optim\n",
    "import random\n",
    "import numpy as np\n",
    "device = torch.device(\"cuda:0\" if torch.cuda.is_available() else \"cpu\")"
   ]
  },
  {
   "cell_type": "code",
   "execution_count": 11,
   "metadata": {},
   "outputs": [],
   "source": [
    "class Net(nn.Module):\n",
    "    def __init__(self, dim_in, hidden_dim, dim_out):\n",
    "        super(Net, self).__init__()\n",
    "        self.fc1 = nn.Linear(dim_in, hidden_dim)\n",
    "        self.fc2 = nn.Linear(hidden_dim, dim_out)\n",
    "    \n",
    "    def forward(self, input):\n",
    "\n",
    "        x = self.fc1(input)\n",
    "        x = F.relu(x)\n",
    "        return F.relu(self.fc2(x))"
   ]
  },
  {
   "cell_type": "code",
   "execution_count": 76,
   "metadata": {},
   "outputs": [],
   "source": [
    "Experience = collections.namedtuple('Experience',\n",
    "           field_names=['state', 'action', 'reward', 'next_state'])\n",
    "class ExperienceReplay:\n",
    "  def __init__(self, capacity):\n",
    "      self.buffer = []\n",
    "      self.capacity = capacity\n",
    "  def __len__(self):\n",
    "      return len(self.buffer)\n",
    "  def append(self, experience):\n",
    "      if len(self.buffer) >= self.capacity:\n",
    "          self.buffer.pop()\n",
    "      self.buffer.append(experience)\n",
    "\n",
    "  def sample(self, batch_size, device):\n",
    "      indices = np.random.choice(len(self.buffer), batch_size,\n",
    "                replace=False)\n",
    "      zipped = list(zip(*[self.buffer[i] for i in indices]))\n",
    "      return torch.tensor(zipped[0], dtype = torch.float).to(device), torch.tensor(zipped[1], dtype = torch.long).to(device), torch.tensor(zipped[2], dtype = torch.float).to(device), torch.tensor(zipped[3], dtype = torch.float).to(device)\n"
   ]
  },
  {
   "cell_type": "code",
   "execution_count": 77,
   "metadata": {},
   "outputs": [],
   "source": [
    "def takeAction(actionList, device,epsilon):\n",
    "        if np.random.random() < epsilon:\n",
    "            return torch.tensor(np.random.choice(len(actionList))).to(device)\n",
    "        else:\n",
    "            return torch.argmax(actionList).to(device)"
   ]
  },
  {
   "cell_type": "code",
   "execution_count": 78,
   "metadata": {},
   "outputs": [],
   "source": [
    "def changeReward(reward):\n",
    "    if reward == None:\n",
    "        return -10\n",
    "    else:\n",
    "        return reward"
   ]
  },
  {
   "cell_type": "code",
   "execution_count": 79,
   "outputs": [],
   "source": [
    "def generateEpisodes(amount, model, replayBuffer, env,device,epsilon):\n",
    "    batchReward = 0\n",
    "    with torch.no_grad(): \n",
    "        for _ in range(amount):\n",
    "            done = False\n",
    "            trainer = env.train([None, \"random\"])\n",
    "            obs = trainer.reset()\n",
    "            while not done:\n",
    "                env.render(mode=\"ansi\")\n",
    "                tensor = torch.tensor(obs.board, dtype = torch.float).to(device)\n",
    "                res = model(tensor)\n",
    "                action = takeAction(res, device,epsilon)\n",
    "                old_obs = obs\n",
    "                obs, reward, done, info = trainer.step(action.item())\n",
    "                reward = changeReward(reward)\n",
    "                exp = Experience(old_obs.board, action, reward, obs.board)\n",
    "                replayBuffer.append(exp)\n",
    "                batchReward+=reward\n",
    "    return batchReward"
   ],
   "metadata": {
    "collapsed": false,
    "pycharm": {
     "name": "#%%\n"
    }
   }
  },
  {
   "cell_type": "code",
   "execution_count": 101,
   "outputs": [],
   "source": [
    "def train(model, qModel, replayBuffer, optimizer, loss_function, device,batchSize, alpha, gamma):\n",
    "    batch = zip(*replayBuffer.sample(batchSize, device))\n",
    "    optimizer.zero_grad()\n",
    "    #das sollte auch besser gehen\n",
    "    for state, action, reward, next_state in batch:\n",
    "        value = model(state)[action]\n",
    "        qValue = max(qModel(next_state))\n",
    "        target = alpha * (reward+ gamma * qValue)\n",
    "        loss = loss_function(value, target)\n",
    "        loss.backward()\n",
    "        optimizer.step()"
   ],
   "metadata": {
    "collapsed": false,
    "pycharm": {
     "name": "#%%\n"
    }
   }
  },
  {
   "cell_type": "code",
   "execution_count": 102,
   "metadata": {},
   "outputs": [],
   "source": [
    "def train2(hiddenDim, episodes, batchSize, device):\n",
    "    env = make(\"connectx\", {\"rows\": 3, \"columns\": 4, \"inarow\": 4})\n",
    "    env.render()\n",
    "    model = Net(env.configuration.columns*env.configuration.rows, hiddenDim, env.configuration.rows).to(device)\n",
    "    qModel = Net(env.configuration.columns*env.configuration.rows, hiddenDim, env.configuration.rows).to(device)\n",
    "    loss_function = nn.MSELoss()\n",
    "    optimizer = optim.SGD(params = model.parameters(), lr=0.01)\n",
    "    buffer = ExperienceReplay(episodes)\n",
    "    idx = 0\n",
    "    while True:\n",
    "        batchReward = generateEpisodes(episodes, model, buffer, env,device,0.1)\n",
    "        train(model, qModel, buffer, optimizer,loss_function,device,batchSize, 0.01, 0.9)\n",
    "        if idx%100 ==0:\n",
    "            qModel = model\n",
    "        if idx % 10 == 0:\n",
    "            print(\"idx: \" + str(idx) + \" meanReward: \" +  str(batchReward))\n",
    "            torch.save(model.state_dict(), \"model_state\")\n",
    "        idx+=1\n",
    "    "
   ]
  },
  {
   "cell_type": "code",
   "execution_count": 103,
   "metadata": {},
   "outputs": [
    {
     "output_type": "stream",
     "name": "stdout",
     "text": [
      "idx: 0 meanReward: -900\n",
      "idx: 10 meanReward: -1000\n"
     ]
    },
    {
     "output_type": "error",
     "ename": "KeyboardInterrupt",
     "evalue": "",
     "traceback": [
      "\u001b[1;31m---------------------------------------------------------------------------\u001b[0m",
      "\u001b[1;31mKeyboardInterrupt\u001b[0m                         Traceback (most recent call last)",
      "\u001b[1;32m<ipython-input-103-b7becf6d27f1>\u001b[0m in \u001b[0;36m<module>\u001b[1;34m\u001b[0m\n\u001b[1;32m----> 1\u001b[1;33m \u001b[0mtrain2\u001b[0m\u001b[1;33m(\u001b[0m\u001b[1;36m100\u001b[0m\u001b[1;33m,\u001b[0m \u001b[1;36m100\u001b[0m\u001b[1;33m,\u001b[0m \u001b[1;36m25\u001b[0m\u001b[1;33m,\u001b[0m \u001b[0mdevice\u001b[0m\u001b[1;33m)\u001b[0m\u001b[1;33m\u001b[0m\u001b[1;33m\u001b[0m\u001b[0m\n\u001b[0m",
      "\u001b[1;32m<ipython-input-102-e031e97a0350>\u001b[0m in \u001b[0;36mtrain2\u001b[1;34m(hiddenDim, episodes, batchSize, device)\u001b[0m\n\u001b[0;32m      9\u001b[0m     \u001b[0midx\u001b[0m \u001b[1;33m=\u001b[0m \u001b[1;36m0\u001b[0m\u001b[1;33m\u001b[0m\u001b[1;33m\u001b[0m\u001b[0m\n\u001b[0;32m     10\u001b[0m     \u001b[1;32mwhile\u001b[0m \u001b[1;32mTrue\u001b[0m\u001b[1;33m:\u001b[0m\u001b[1;33m\u001b[0m\u001b[1;33m\u001b[0m\u001b[0m\n\u001b[1;32m---> 11\u001b[1;33m         \u001b[0mbatchReward\u001b[0m \u001b[1;33m=\u001b[0m \u001b[0mgenerateEpisodes\u001b[0m\u001b[1;33m(\u001b[0m\u001b[0mepisodes\u001b[0m\u001b[1;33m,\u001b[0m \u001b[0mmodel\u001b[0m\u001b[1;33m,\u001b[0m \u001b[0mbuffer\u001b[0m\u001b[1;33m,\u001b[0m \u001b[0menv\u001b[0m\u001b[1;33m,\u001b[0m\u001b[0mdevice\u001b[0m\u001b[1;33m,\u001b[0m\u001b[1;36m0.1\u001b[0m\u001b[1;33m)\u001b[0m\u001b[1;33m\u001b[0m\u001b[1;33m\u001b[0m\u001b[0m\n\u001b[0m\u001b[0;32m     12\u001b[0m         \u001b[0mtrain\u001b[0m\u001b[1;33m(\u001b[0m\u001b[0mmodel\u001b[0m\u001b[1;33m,\u001b[0m \u001b[0mqModel\u001b[0m\u001b[1;33m,\u001b[0m \u001b[0mbuffer\u001b[0m\u001b[1;33m,\u001b[0m \u001b[0moptimizer\u001b[0m\u001b[1;33m,\u001b[0m\u001b[0mloss_function\u001b[0m\u001b[1;33m,\u001b[0m\u001b[0mdevice\u001b[0m\u001b[1;33m,\u001b[0m\u001b[0mbatchSize\u001b[0m\u001b[1;33m,\u001b[0m \u001b[1;36m0.01\u001b[0m\u001b[1;33m,\u001b[0m \u001b[1;36m0.9\u001b[0m\u001b[1;33m)\u001b[0m\u001b[1;33m\u001b[0m\u001b[1;33m\u001b[0m\u001b[0m\n\u001b[0;32m     13\u001b[0m         \u001b[1;32mif\u001b[0m \u001b[0midx\u001b[0m\u001b[1;33m%\u001b[0m\u001b[1;36m100\u001b[0m \u001b[1;33m==\u001b[0m\u001b[1;36m0\u001b[0m\u001b[1;33m:\u001b[0m\u001b[1;33m\u001b[0m\u001b[1;33m\u001b[0m\u001b[0m\n",
      "\u001b[1;32m<ipython-input-79-9b3dcac2e619>\u001b[0m in \u001b[0;36mgenerateEpisodes\u001b[1;34m(amount, model, replayBuffer, env, device, epsilon)\u001b[0m\n\u001b[0;32m      8\u001b[0m             \u001b[1;32mwhile\u001b[0m \u001b[1;32mnot\u001b[0m \u001b[0mdone\u001b[0m\u001b[1;33m:\u001b[0m\u001b[1;33m\u001b[0m\u001b[1;33m\u001b[0m\u001b[0m\n\u001b[0;32m      9\u001b[0m                 \u001b[0menv\u001b[0m\u001b[1;33m.\u001b[0m\u001b[0mrender\u001b[0m\u001b[1;33m(\u001b[0m\u001b[0mmode\u001b[0m\u001b[1;33m=\u001b[0m\u001b[1;34m\"ansi\"\u001b[0m\u001b[1;33m)\u001b[0m\u001b[1;33m\u001b[0m\u001b[1;33m\u001b[0m\u001b[0m\n\u001b[1;32m---> 10\u001b[1;33m                 \u001b[0mtensor\u001b[0m \u001b[1;33m=\u001b[0m \u001b[0mtorch\u001b[0m\u001b[1;33m.\u001b[0m\u001b[0mtensor\u001b[0m\u001b[1;33m(\u001b[0m\u001b[0mobs\u001b[0m\u001b[1;33m.\u001b[0m\u001b[0mboard\u001b[0m\u001b[1;33m,\u001b[0m \u001b[0mdtype\u001b[0m \u001b[1;33m=\u001b[0m \u001b[0mtorch\u001b[0m\u001b[1;33m.\u001b[0m\u001b[0mfloat\u001b[0m\u001b[1;33m)\u001b[0m\u001b[1;33m.\u001b[0m\u001b[0mto\u001b[0m\u001b[1;33m(\u001b[0m\u001b[0mdevice\u001b[0m\u001b[1;33m)\u001b[0m\u001b[1;33m\u001b[0m\u001b[1;33m\u001b[0m\u001b[0m\n\u001b[0m\u001b[0;32m     11\u001b[0m                 \u001b[0mres\u001b[0m \u001b[1;33m=\u001b[0m \u001b[0mmodel\u001b[0m\u001b[1;33m(\u001b[0m\u001b[0mtensor\u001b[0m\u001b[1;33m)\u001b[0m\u001b[1;33m\u001b[0m\u001b[1;33m\u001b[0m\u001b[0m\n\u001b[0;32m     12\u001b[0m                 \u001b[0maction\u001b[0m \u001b[1;33m=\u001b[0m \u001b[0mtakeAction\u001b[0m\u001b[1;33m(\u001b[0m\u001b[0mres\u001b[0m\u001b[1;33m,\u001b[0m \u001b[0mdevice\u001b[0m\u001b[1;33m,\u001b[0m\u001b[0mepsilon\u001b[0m\u001b[1;33m)\u001b[0m\u001b[1;33m\u001b[0m\u001b[1;33m\u001b[0m\u001b[0m\n",
      "\u001b[1;31mKeyboardInterrupt\u001b[0m: "
     ]
    }
   ],
   "source": [
    "train2(100, 100, 25, device)"
   ]
  },
  {
   "cell_type": "code",
   "execution_count": null,
   "metadata": {},
   "outputs": [],
   "source": []
  },
  {
   "cell_type": "code",
   "execution_count": null,
   "metadata": {},
   "outputs": [],
   "source": []
  }
 ]
}